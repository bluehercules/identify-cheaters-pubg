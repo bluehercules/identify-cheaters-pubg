{
 "cells": [
  {
   "attachments": {},
   "cell_type": "markdown",
   "metadata": {
    "slideshow": {
     "slide_type": "slide"
    }
   },
   "source": [
    "## The homophily and social contagion of cheating \n",
    "\n",
    "---\n",
    "\n",
    "**NOTE: You are only allowed to use fundamental Python data types (lists, tuples, dictionaries, numpy.ndarray, etc.) to complete this assignment.**\n",
    "\n",
    "Although this assignment is quite streamlined, imagine that the tasks here are part of a larger project. "
   ]
  },
  {
   "attachments": {},
   "cell_type": "markdown",
   "metadata": {
    "slideshow": {
     "slide_type": "slide"
    }
   },
   "source": [
    "\n",
    "### Output\n",
    "\n",
    "The tasks ask you to output actual counts and expecteded counts (mean with 95% confidence interval). To estimate the 95% conifdence intervals, ignore the small sample size and the fact that we are dealing with count data, and simply use the approximation: 95% CI $= \\mu \\pm 1.96 \\frac{\\sigma}{\\sqrt{n}}$, where $\\mu$ is the mean and $\\sigma$ the standard deviation of the counts in the $n=20$ randomizations.\n"
   ]
  },
  {
   "attachments": {},
   "cell_type": "markdown",
   "metadata": {},
   "source": [
    "## Import and run code"
   ]
  },
  {
   "cell_type": "code",
   "execution_count": 1,
   "metadata": {},
   "outputs": [],
   "source": [
    "# Import modules\n",
    "import copy\n",
    "from operator import itemgetter\n",
    "from counting import *\n",
    "from presentation import *\n",
    "from randomisations import *\n",
    "from data_manipulation import *\n",
    "from dictionary_methods import *"
   ]
  },
  {
   "cell_type": "code",
   "execution_count": 2,
   "metadata": {},
   "outputs": [],
   "source": [
    "# Read in cheaters data while converting 1 and 2 indices to date objects\n",
    "cheaters_txt = open_txt('../assignment-final-data/cheaters.txt', date_idx=1, date_idx_2=2)"
   ]
  },
  {
   "cell_type": "code",
   "execution_count": 3,
   "metadata": {},
   "outputs": [],
   "source": [
    "# Create a dictionary with the first element of cheaters_txt as the key\n",
    "# and the remaining items as the value to that key.\n",
    "cheaters_dic = {x[0]: x[1:] for x in cheaters_txt}"
   ]
  },
  {
   "cell_type": "code",
   "execution_count": 4,
   "metadata": {
    "scrolled": false
   },
   "outputs": [],
   "source": [
    "# Read in teams data while converting the index 2 to an integer\n",
    "teams_txt = open_txt('../assignment-final-data/team_ids.txt', intg=2)    "
   ]
  },
  {
   "cell_type": "code",
   "execution_count": 5,
   "metadata": {},
   "outputs": [],
   "source": [
    "# Read in kills data while converting index 3 to a datetime object\n",
    "kills_txt = open_txt('../assignment-final-data/kills.txt', date_idx=3, dt=True)"
   ]
  },
  {
   "cell_type": "code",
   "execution_count": 6,
   "metadata": {},
   "outputs": [],
   "source": [
    "# Create a list from the first index of all kills_txt items\n",
    "all_matches_kills = index_set(kills_txt, 0)"
   ]
  },
  {
   "attachments": {},
   "cell_type": "markdown",
   "metadata": {},
   "source": [
    "### 1. Do cheaters team up?\n",
    "\n",
    "Use the files `cheaters.txt` and `team_ids.txt` to estimate how often cheaters (regardless of when exactly they started cheating) end up on the same team. Your output should say how many teams have 0, 1, 2, 3, or 4 cheaters.\n",
    "\n",
    "Now, randomly shuffle the team ids among the players in a match. Repeat this 20 times and estimate the expected counts as before. Output the mean and the 95% confidence intervals for the expected counts. "
   ]
  },
  {
   "cell_type": "markdown",
   "metadata": {},
   "source": [
    "### Preparing data"
   ]
  },
  {
   "cell_type": "code",
   "execution_count": 7,
   "metadata": {
    "scrolled": true
   },
   "outputs": [],
   "source": [
    "match_teams_cheaters, match_teams, match_players = slicing_teams(teams_txt, cheaters_dic)"
   ]
  },
  {
   "cell_type": "markdown",
   "metadata": {},
   "source": [
    "### Determining numbers of cheaters on each team in *original* data"
   ]
  },
  {
   "cell_type": "code",
   "execution_count": 8,
   "metadata": {},
   "outputs": [],
   "source": [
    "# Calculate the number of cheaters on each team per match\n",
    "cheater_count, teams_count = cheaters_per_team(match_teams, match_teams_cheaters)"
   ]
  },
  {
   "cell_type": "code",
   "execution_count": 9,
   "metadata": {},
   "outputs": [],
   "source": [
    "# Record team cheater values in a counter dictionary\n",
    "cheaters_teams_actual = team_counter(cheater_count, teams_count)"
   ]
  },
  {
   "cell_type": "markdown",
   "metadata": {},
   "source": [
    "### Determining expected number of cheaters in teams in *randomised* data"
   ]
  },
  {
   "cell_type": "code",
   "execution_count": 10,
   "metadata": {},
   "outputs": [],
   "source": [
    "t_shfl = copy.deepcopy(teams_txt)"
   ]
  },
  {
   "cell_type": "code",
   "execution_count": 12,
   "metadata": {},
   "outputs": [],
   "source": [
    "cheater_count_list = [[] for x in range(len(cheaters_teams_actual))]\n",
    "\n",
    "for i in range(20):\n",
    "    \n",
    "    # Shuffling the order of team players and reassigning to new\n",
    "    t_shfl = team_players_shfl(t_shfl, match_players)\n",
    "    \n",
    "    # Prepare shuffled data\n",
    "    match_teams_cheaters_shfl, match_teams_shfl, match_players = slicing_teams(t_shfl, cheaters_dic)   \n",
    "    \n",
    "    # Calculate cheaters per team with shuffled data\n",
    "    cheater_count, teams_count = cheaters_per_team(match_teams_shfl, match_teams_cheaters_shfl)\n",
    "    \n",
    "    # Creation of counter dictionary\n",
    "    cheaters_teams = team_counter(cheater_count, teams_count)\n",
    "    \n",
    "    # Add values of counter to a list which stores all values\n",
    "    for j, l in cheaters_teams.most_common():\n",
    "        cheater_count_list[j].append(l)      "
   ]
  },
  {
   "cell_type": "markdown",
   "metadata": {},
   "source": [
    "### Output"
   ]
  },
  {
   "cell_type": "code",
   "execution_count": 13,
   "metadata": {},
   "outputs": [
    {
     "name": "stdout",
     "output_type": "stream",
     "text": [
      "Teams with 0 cheaters\n",
      "Actual: 170782\n",
      "\n",
      "Teams with 1 cheater\n",
      "Actual: 3199\n",
      "\n",
      "Teams with 2 cheaters\n",
      "Actual: 182\n",
      "\n",
      "Teams with 3 cheaters\n",
      "Actual: 9\n",
      "\n",
      "Teams with 4 cheaters\n",
      "Actual: 2\n",
      "\n"
     ]
    }
   ],
   "source": [
    "print_counter(cheaters_teams_actual.most_common())"
   ]
  },
  {
   "cell_type": "code",
   "execution_count": 14,
   "metadata": {},
   "outputs": [
    {
     "name": "stdout",
     "output_type": "stream",
     "text": [
      "Teams with 0 cheaters\n",
      "Expected (mean) (rounded): 170609.1\n",
      "95% Confidence Interval (rounded): (170606.8, 170611.4)\n",
      "\n",
      "Teams with 1 cheater\n",
      "Expected (mean) (rounded): 3531.9\n",
      "95% Confidence Interval (rounded): (3527.4, 3536.4)\n",
      "\n",
      "Teams with 2 cheaters\n",
      "Expected (mean) (rounded): 32.9\n",
      "95% Confidence Interval (rounded): (30.6, 35.2)\n",
      "\n",
      "Teams with 3 cheaters\n",
      "Expected (mean) (rounded): 1.0\n",
      "95% Confidence Interval (rounded): (1.0, 1.0)\n",
      "\n",
      "There are no teams with 4 cheaters.\n"
     ]
    }
   ],
   "source": [
    "print_counter_expected(cheater_count_list)"
   ]
  },
  {
   "attachments": {},
   "cell_type": "markdown",
   "metadata": {},
   "source": [
    "### 2. Do victims of cheating start cheating?\n",
    "\n",
    "Use the files `cheaters.txt` and `kills.txt` to count how many players got killed by an active cheater on at least one occasion and then started cheating. Specifically, we are interested in situations where:\n",
    "\n",
    "1. Player B has started cheating but player A is not cheating.\n",
    "2. Player B kills player A.\n",
    "3. At some point afterwards, player A starts cheating.\n",
    "\n",
    "Output the count in the data. \n",
    "\n",
    "Then, simulate alternative worlds in which everything is the same but the events took somewhat different sequence. To do so, randomize within a game, keeping the timing and structure of interactions but shuffling the player ids. Generate 20 randomizations like this and estimate the expected count of victims of cheating who start cheating as before. Output the mean and the 95% confidence interval for the expected count in these randomized worlds.\n",
    "\n",
    "#### Hint\n",
    "\n",
    "Starting time of cheating is estimated as a date, so assume that a player cheats on any match that they started playing on that date or afterwards. Use the match starting date so that if the match started before midnight of the cheating date but ended after midnight, we will assume that the player was not cheating just yet. \n"
   ]
  },
  {
   "cell_type": "markdown",
   "metadata": {},
   "source": [
    "### Preparing data"
   ]
  },
  {
   "cell_type": "code",
   "execution_count": 15,
   "metadata": {},
   "outputs": [],
   "source": [
    "# Creation of directory elements\n",
    "match_cheaters, match_events, match_date, match_victims, match_players = create_directory(kills_txt, cheaters_dic)"
   ]
  },
  {
   "cell_type": "code",
   "execution_count": 16,
   "metadata": {},
   "outputs": [],
   "source": [
    "# Grouping of directory elements into the directory itself\n",
    "match_library = {x:[match_cheaters[x],\n",
    "                    sorted(match_events[x], key=itemgetter(2)),\n",
    "                    match_date[x], \n",
    "                    match_victims[x]] for x in all_matches_kills}"
   ]
  },
  {
   "cell_type": "code",
   "execution_count": 17,
   "metadata": {},
   "outputs": [],
   "source": [
    "# Player lists and shuffled player lists in values of dic\n",
    "swap_players = create_shuffle_swap(match_players)"
   ]
  },
  {
   "cell_type": "markdown",
   "metadata": {},
   "source": [
    "### Determining actual number of victims in teams in *original* data"
   ]
  },
  {
   "cell_type": "code",
   "execution_count": 18,
   "metadata": {},
   "outputs": [],
   "source": [
    "victim_actual = victims_start_cheating(match_library, cheaters_dic)"
   ]
  },
  {
   "cell_type": "markdown",
   "metadata": {},
   "source": [
    "### Determining expected number of victims in teams in *randomised* data"
   ]
  },
  {
   "cell_type": "code",
   "execution_count": 19,
   "metadata": {},
   "outputs": [],
   "source": [
    "match_events_shfl = copy.deepcopy(match_events)"
   ]
  },
  {
   "cell_type": "code",
   "execution_count": 20,
   "metadata": {},
   "outputs": [],
   "source": [
    "# Twenty randomisations\n",
    "victim_expected = []\n",
    "\n",
    "for i in range(20):\n",
    "    \n",
    "    # Shuffling events data\n",
    "    match_library_shfl = indexing_shuffle(match_library, match_events_shfl, swap_players)\n",
    "\n",
    "    # Determine which victims begin cheating after being killed\n",
    "    victim_cheating_shfl = victims_start_cheating(match_library_shfl, cheaters_dic)\n",
    "\n",
    "    # Find expected count and add to tracking count list\n",
    "    victim_expected.append(victim_cheating_shfl)\n",
    "\n",
    "    # Reshuffle data before next iteration\n",
    "    swap_players = shuffle_swap(swap_players)"
   ]
  },
  {
   "cell_type": "markdown",
   "metadata": {},
   "source": [
    "### Output"
   ]
  },
  {
   "cell_type": "code",
   "execution_count": 21,
   "metadata": {
    "scrolled": true
   },
   "outputs": [
    {
     "name": "stdout",
     "output_type": "stream",
     "text": [
      "Actual:  47\n",
      "Expected:  10.5\n",
      "95% Confidence Interval (rounded):  (8.44, 12.56)\n"
     ]
    }
   ],
   "source": [
    "print_actual_expected(victim_actual, victim_expected)"
   ]
  },
  {
   "attachments": {},
   "cell_type": "markdown",
   "metadata": {},
   "source": [
    "### 3. Do observers of cheating start cheating?\n",
    "\n",
    "Use the files `cheaters.txt` and `kills.txt` to count how many players observed an active cheater on at least one occasion and then started cheating. Cheating players can be recognized because they exhibit abnormal killing patterns. We will assume that player A realizes that player B cheats if:\n",
    "\n",
    "1. Player B has started cheating but player A is not cheating.\n",
    "2. Player B kills at least 3 other players before player A gets killed in the game.\n",
    "3. At some point afterwards, player A starts cheating.\n",
    "\n",
    "Output the count in the data.\n",
    "\n",
    "Then, use the 20 randomizations from Part 2 to estimate the expected count of observers of cheating who start cheating. Output the mean and the 95% confidence interval for the expected count in these randomized worlds."
   ]
  },
  {
   "cell_type": "markdown",
   "metadata": {},
   "source": [
    "### Preparing data"
   ]
  },
  {
   "cell_type": "code",
   "execution_count": 22,
   "metadata": {},
   "outputs": [],
   "source": [
    "# Reset match library to use original match events\n",
    "# and not the shuffled match events.\n",
    "\n",
    "for key, value in match_library.items():\n",
    "    match_library[key][1] = sorted(match_events[key], key=itemgetter(2))"
   ]
  },
  {
   "cell_type": "markdown",
   "metadata": {},
   "source": [
    "### Determining actual number of observers in teams in *original* data"
   ]
  },
  {
   "cell_type": "code",
   "execution_count": 23,
   "metadata": {},
   "outputs": [],
   "source": [
    "# Find observers list and keep the match date\n",
    "all_observers = find_killed_observers(match_library)"
   ]
  },
  {
   "cell_type": "code",
   "execution_count": 24,
   "metadata": {},
   "outputs": [],
   "source": [
    "# Determine which observers began cheating after\n",
    "observers_actual = count_active_victims(all_observers, cheaters_dic)"
   ]
  },
  {
   "cell_type": "markdown",
   "metadata": {},
   "source": [
    "### Determining expected  number of observers in teams in *randomised* data"
   ]
  },
  {
   "cell_type": "code",
   "execution_count": 25,
   "metadata": {},
   "outputs": [],
   "source": [
    "# Twenty randomisations\n",
    "observers_expected = []\n",
    "\n",
    "for i in range(20):\n",
    "\n",
    "    # Shuffling events data and resetting victims list\n",
    "    match_library_shfl = indexing_shuffle(match_library, match_events_shfl, swap_players)\n",
    "    match_library_shfl = reset_cheaters_observers(match_library_shfl, cheaters_dic)\n",
    "\n",
    "    # Determine which observers begin cheating after being killed\n",
    "    all_observers_shfl = find_killed_observers(match_library_shfl)\n",
    "    num_observers = count_active_victims(all_observers_shfl, cheaters_dic)\n",
    "\n",
    "    # Find expected count and add to tracking count list\n",
    "    observers_expected.append(num_observers)\n",
    "\n",
    "    # Reshuffle data before next iteration\n",
    "    swap_players = shuffle_swap(swap_players)"
   ]
  },
  {
   "cell_type": "markdown",
   "metadata": {},
   "source": [
    "### Output"
   ]
  },
  {
   "cell_type": "code",
   "execution_count": 26,
   "metadata": {
    "scrolled": true
   },
   "outputs": [
    {
     "name": "stdout",
     "output_type": "stream",
     "text": [
      "Actual:  213\n",
      "Expected:  47.2\n",
      "95% Confidence Interval (rounded):  (43.72, 50.68)\n"
     ]
    }
   ],
   "source": [
    "print_actual_expected(observers_actual, observers_expected)"
   ]
  }
 ],
 "metadata": {
  "kernelspec": {
   "display_name": "Python 3 (ipykernel)",
   "language": "python",
   "name": "python3"
  },
  "language_info": {
   "codemirror_mode": {
    "name": "ipython",
    "version": 3
   },
   "file_extension": ".py",
   "mimetype": "text/x-python",
   "name": "python",
   "nbconvert_exporter": "python",
   "pygments_lexer": "ipython3",
   "version": "3.9.13"
  }
 },
 "nbformat": 4,
 "nbformat_minor": 2
}
